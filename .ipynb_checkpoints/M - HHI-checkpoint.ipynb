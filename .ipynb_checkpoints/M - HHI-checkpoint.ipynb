{
 "cells": [
  {
   "cell_type": "code",
   "execution_count": 1,
   "metadata": {},
   "outputs": [],
   "source": [
    "import pandas as pd\n",
    "import numpy as np\n",
    "import wrds\n"
   ]
  },
  {
   "cell_type": "code",
   "execution_count": 2,
   "metadata": {},
   "outputs": [
    {
     "name": "stdout",
     "output_type": "stream",
     "text": [
      "Loading library list...\n",
      "Done\n"
     ]
    }
   ],
   "source": [
    "db = wrds.Connection(wrds_username='tadej')"
   ]
  },
  {
   "cell_type": "code",
   "execution_count": 4,
   "metadata": {},
   "outputs": [],
   "source": [
    "# Import data\n",
    "select_str = '''\n",
    "SELECT date_part('year', date) AS year, \n",
    "       shrout * abs(prc) AS mktcap, substr(ncusip, 1, 8) AS cusip8\n",
    "FROM crspa.msf AS m INNER JOIN crspa.stocknames AS n ON n.permno = m.permno\n",
    "WHERE date_part('month', date) = 12 AND\n",
    "      substr(ncusip, 1, 8) IS NOT NULL\n",
    "'''\n",
    "\n",
    "data_crsp = db.raw_sql(select_str)\n",
    "data_bushee = pd.read_stata('Data/Intermediate/bushee_detailed.dta')\n",
    "data_bushee = data_bushee.rename(columns = {'cusip': 'cusip8'})\n",
    "\n",
    "# Collapse by sum\n",
    "data_bushee = data_bushee.groupby(['year', 'cusip8', 'mgrno'])['shares', 'sole', 'shared', 'no']\\\n",
    "                         .sum().reset_index()\n",
    "\n",
    "data_bushee['temp'] = data_bushee.groupby(['year', 'cusip8'])['shares'].transform('sum')"
   ]
  },
  {
   "cell_type": "code",
   "execution_count": null,
   "metadata": {},
   "outputs": [],
   "source": [
    "data = data[data['shares']/data['temp'] ]"
   ]
  },
  {
   "cell_type": "code",
   "execution_count": 6,
   "metadata": {},
   "outputs": [
    {
     "data": {
      "text/plain": [
       "0           1.000000\n",
       "1           1.000000\n",
       "2           1.000000\n",
       "3           1.000000\n",
       "4           1.000000\n",
       "5           1.000000\n",
       "6           1.000000\n",
       "7           1.000000\n",
       "8           1.000000\n",
       "9           1.000000\n",
       "10          1.000000\n",
       "11          1.000000\n",
       "12          1.000000\n",
       "13          1.000000\n",
       "14          1.000000\n",
       "15          1.000000\n",
       "16          1.000000\n",
       "17          1.000000\n",
       "18          1.000000\n",
       "19          1.000000\n",
       "20          1.000000\n",
       "21          1.000000\n",
       "22          1.000000\n",
       "23          1.000000\n",
       "24          1.000000\n",
       "25          1.000000\n",
       "26          1.000000\n",
       "27          1.000000\n",
       "28          1.000000\n",
       "29          1.000000\n",
       "              ...   \n",
       "19055032    0.000031\n",
       "19055033    0.082068\n",
       "19055034    0.000035\n",
       "19055035    0.003990\n",
       "19055036    0.000583\n",
       "19055037    0.001709\n",
       "19055038    0.000022\n",
       "19055039    0.003970\n",
       "19055040    0.002762\n",
       "19055041    0.000602\n",
       "19055042    0.002408\n",
       "19055043    0.001535\n",
       "19055044    0.000228\n",
       "19055045    0.010185\n",
       "19055046    0.002423\n",
       "19055047    0.036482\n",
       "19055048    0.002989\n",
       "19055049    0.008778\n",
       "19055050    0.000538\n",
       "19055051    0.086115\n",
       "19055052    0.005892\n",
       "19055053    0.000015\n",
       "19055054    0.002293\n",
       "19055055    0.008579\n",
       "19055056    0.000404\n",
       "19055057    0.059425\n",
       "19055058    0.008886\n",
       "19055059    0.009659\n",
       "19055060    0.000387\n",
       "19055061    1.000000\n",
       "Length: 19055062, dtype: float64"
      ]
     },
     "execution_count": 6,
     "metadata": {},
     "output_type": "execute_result"
    }
   ],
   "source": [
    "data_bushee['shares']/data_bushee['temp']"
   ]
  },
  {
   "cell_type": "code",
   "execution_count": null,
   "metadata": {},
   "outputs": [],
   "source": []
  }
 ],
 "metadata": {
  "kernelspec": {
   "display_name": "Python 3",
   "language": "python",
   "name": "python3"
  },
  "language_info": {
   "codemirror_mode": {
    "name": "ipython",
    "version": 3
   },
   "file_extension": ".py",
   "mimetype": "text/x-python",
   "name": "python",
   "nbconvert_exporter": "python",
   "pygments_lexer": "ipython3",
   "version": "3.7.3"
  }
 },
 "nbformat": 4,
 "nbformat_minor": 2
}
