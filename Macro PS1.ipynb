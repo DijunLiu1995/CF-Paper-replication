{
 "cells": [
  {
   "cell_type": "code",
   "execution_count": 1,
   "metadata": {},
   "outputs": [],
   "source": [
    "import numpy as np\n",
    "import pandas as pd\n",
    "import matplotlib.pyplot as plt\n",
    "\n",
    "import statsmodels.api as sm\n",
    "from statsmodels.graphics.tsaplots import plot_acf\n",
    "\n",
    "import requests \n",
    "import json"
   ]
  },
  {
   "cell_type": "code",
   "execution_count": 2,
   "metadata": {},
   "outputs": [],
   "source": [
    "key_bea = '3E7CB4CE-838D-4BB0-AE7C-9BACB931D976'\n",
    "base_url_bea = 'http://apps.bea.gov/api/data?UserID=' + key_bea + '&method=GetData' \n",
    "res_f_bea = '&ResultFormat=JSON'\n",
    "\n",
    "# Helper function to filter BEA data\n",
    "def get_url(table_name, frequency='Q', database='NIPA'):\n",
    "    url = base_url_bea + '&DataSetName=' + database + '&TableName=' + table_name + \\\n",
    "          '&Frequency=' + frequency + '&Year=X'+ res_f_bea\n",
    "    \n",
    "    return url\n",
    "\n",
    "def filter_data(results, col_name_in, col_name_out, year_begin=1960):\n",
    "    data = pd.read_json(json.dumps(results))\n",
    "    data['TimePeriod'] = pd.to_datetime(data['TimePeriod'].astype(str))\n",
    "    data = data.loc[data['LineDescription'] == col_name_in][['DataValue', 'TimePeriod']]\n",
    "    data['TimePeriod'] = pd.to_datetime(data['TimePeriod'])\n",
    "    data = data.loc[data['TimePeriod'] >= (str(year_begin) + '-01-01')]\\\n",
    "            .rename(columns={'DataValue': col_name_out, 'TimePeriod': 'date'})\\\n",
    "            .set_index('date')\n",
    "\n",
    "    # Commas are a thousands separator, pandas somehow doesn't get it - fix this manually\n",
    "    if data.dtypes[col_name_out] == np.dtype('object'):\n",
    "        data[col_name_out] = pd.to_numeric(data[col_name_out].str.replace(',', ''))\n",
    "    \n",
    "    return data\n",
    "\n",
    "def get_table(table_name, col_name_in, col_name_out, frequency='Q', \n",
    "              database='NIPA', filter = True):\n",
    "    r = requests.get(get_url(table_name, frequency, database))\n",
    "    if filter:\n",
    "        data = filter_data(r.json()['BEAAPI']['Results']['Data'], col_name_in, col_name_out)\n",
    "    else:\n",
    "        data = r.json()\n",
    "        \n",
    "    return data\n",
    "\n",
    "def check_series(table_name, frequency='Q', database='NIPA'):\n",
    "    r = requests.get(get_url(table_name, frequency, database))\n",
    "    data = r.json()['BEAAPI']['Results']['Data']\n",
    "    return set([x['LineDescription'] for x in data])"
   ]
  },
  {
   "cell_type": "code",
   "execution_count": 3,
   "metadata": {},
   "outputs": [],
   "source": [
    "key_fred = '12ae65528f24e8974f32c172f44c3ee5'\n",
    "base_url_fred = 'https://api.stlouisfed.org/fred/series/observations?' 'api_key=' +\\\n",
    "                key_fred + '&file_type=json' \n",
    "\n",
    "# Helper function to filter FRED data\n",
    "def get_url_fred(table_name):\n",
    "    url = base_url_fred + '&series_id=' + table_name\n",
    "    return url\n",
    "\n",
    "def get_table_fred(table_name, col_name_out):\n",
    "    r = requests.get(get_url_fred(table_name))\n",
    "    data = pd.read_json(json.dumps(r.json()['observations']))[['date', 'value']]\n",
    "    data = data.set_index('date').rename(columns={'value': col_name_out})\n",
    "    \n",
    "    return data"
   ]
  },
  {
   "cell_type": "code",
   "execution_count": 4,
   "metadata": {},
   "outputs": [],
   "source": [
    "# Get GDP\n",
    "data = get_table('T10106', 'Gross domestic product', 'GDP')\n",
    "\n",
    "# Gov spending\n",
    "data = data.join(get_table('T10106', 'Government consumption expenditures and gross investment', \n",
    "                          'gov_spending'))\n",
    "\n",
    "# Housing services\n",
    "data = data.join(get_table('T20305', 'Housing and utilities', 'housing_services'))\n",
    "\n",
    "# Housing deflator\n",
    "data = data.join(get_table('T20304', 'Housing and utilities', 'housing_services_deflator'))\n",
    "\n",
    "# Real housing services\n",
    "data['real_housing'] = data['housing_services']/(data['housing_services_deflator']/100)\n",
    "\n",
    "# Private non-res output\n",
    "data['y'] = data['GDP'] - data['real_housing'] - data['gov_spending']"
   ]
  },
  {
   "cell_type": "code",
   "execution_count": 5,
   "metadata": {},
   "outputs": [],
   "source": [
    "# Nom. priv. non-res. fixed inv.\n",
    "data = data.join(get_table('T50305', 'Private fixed investment', 'pr_fix_inv_nom'))\n",
    "\n",
    "# Deflator for Nom. priv. non-res. fixed inv.\n",
    "data = data.join(get_table('T50304', 'Private fixed investment', 'pr_fix_inv_def'))\n",
    "\n",
    "# Real priv. non-res. fixed inv. (divide by 1000 to fix)\n",
    "data['pr_fix_inv'] = (data['pr_fix_inv_nom']/1000)/(data['pr_fix_inv_def']/100)"
   ]
  },
  {
   "cell_type": "code",
   "execution_count": 6,
   "metadata": {},
   "outputs": [],
   "source": [
    "# Get annual private non-residential fixed assets\n",
    "an_data = get_table('FAAt401', 'Private nonresidential fixed assets', 'fixed_assets', \n",
    "                    frequency = 'A', database = 'FixedAssets')\n",
    "\n",
    "# Chain-type quantity index for private non-residential fixed assets\n",
    "an_data = an_data.join(get_table('FAAt402', 'Private nonresidential fixed assets', 'fa_index', \n",
    "                    frequency = 'A', database = 'FixedAssets'))\n",
    "\n",
    "# Real fixed assets\n",
    "an_data['fixed_assets_real'] = an_data['fixed_assets']/(an_data['fa_index']/100)\n",
    "\n",
    "# Quarterly interpolation (linear interpolation)\n",
    "data = data.join(an_data['fixed_assets_real']).interpolate()"
   ]
  },
  {
   "cell_type": "code",
   "execution_count": 7,
   "metadata": {},
   "outputs": [],
   "source": [
    "# Depreciation rates\n",
    "K = data['fixed_assets_real']\n",
    "I = data['pr_fix_inv']\n",
    "data['depr'] = 1 - ((K-I)/K.shift(-1))**4"
   ]
  },
  {
   "cell_type": "code",
   "execution_count": 8,
   "metadata": {},
   "outputs": [
    {
     "data": {
      "image/png": "[encoded data removed]",
      "text/plain": [
       "<Figure size 432x288 with 1 Axes>"
      ]
     },
     "metadata": {
      "needs_background": "light"
     },
     "output_type": "display_data"
    }
   ],
   "source": [
    "# Plot Depreciation\n",
    "fig, ax = plt.subplots(figsize = (6,4))\n",
    "\n",
    "data['depr'].plot(ax=ax)\n",
    "fig.savefig(\"depr.pdf\")"
   ]
  },
  {
   "cell_type": "code",
   "execution_count": 9,
   "metadata": {},
   "outputs": [],
   "source": [
    "# Payroll\n",
    "fred = get_table_fred('USPRIV', 'payroll')\n",
    "\n",
    "# Avg each quarter\n",
    "data = data.join(fred.rolling(window=3).mean().shift(-3))"
   ]
  },
  {
   "cell_type": "code",
   "execution_count": 10,
   "metadata": {},
   "outputs": [],
   "source": [
    "# Labor income\n",
    "data = data.join(get_table('T11000', 'Compensation of employees, paid', 'inc_labor'))\n",
    "\n",
    "# Private capital income\n",
    "data = data.join(get_table('T11000', 'Net operating surplus', 'inc_capital_1'))\n",
    "data = data.join(get_table('T11000', 'Consumption of fixed capital', 'inc_capital_2'))\n",
    "\n",
    "# Labor share\n",
    "i_l = data['inc_labor']\n",
    "i_k = data['inc_capital_1'] + data['inc_capital_2']\n",
    "data['labor_share'] = i_l/(i_l + i_k)"
   ]
  },
  {
   "cell_type": "code",
   "execution_count": 11,
   "metadata": {},
   "outputs": [],
   "source": [
    "# Construct Sollow residual\n",
    "a = data['labor_share']\n",
    "y = data['y']\n",
    "n = data['payroll']\n",
    "k = data['fixed_assets_real']\n",
    "\n",
    "data['log_A'] = np.log(y) - a*np.log(n) - (1-a)*np.log(k)"
   ]
  },
  {
   "cell_type": "code",
   "execution_count": 15,
   "metadata": {},
   "outputs": [
    {
     "data": {
      "image/png": "[encoded data removed]",
      "text/plain": [
       "<Figure size 432x288 with 1 Axes>"
      ]
     },
     "metadata": {
      "needs_background": "light"
     },
     "output_type": "display_data"
    }
   ],
   "source": [
    "# HP filter\n",
    "cycle, trend = sm.tsa.filters.hpfilter(data.log_A, 1600)\n",
    "\n",
    "fig, ax = plt.subplots(figsize = (6,4))\n",
    "\n",
    "trend.plot(ax=ax)\n",
    "fig.savefig(\"A_cycle.pdf\")"
   ]
  },
  {
   "cell_type": "code",
   "execution_count": 13,
   "metadata": {},
   "outputs": [
    {
     "data": {
      "image/png": "[encoded data removed]",
      "text/plain": [
       "<Figure size 432x288 with 1 Axes>"
      ]
     },
     "metadata": {
      "needs_background": "light"
     },
     "output_type": "display_data"
    }
   ],
   "source": [
    "fig, ax = plt.subplots(figsize = (6,4))\n",
    "\n",
    "plot_acf(cycle, lags=6, ax=ax)\n",
    "fig.savefig(\"A_cycle_acf.pdf\")"
   ]
  }
 ],
 "metadata": {
  "kernelspec": {
   "display_name": "Python 3",
   "language": "python",
   "name": "python3"
  },
  "language_info": {
   "codemirror_mode": {
    "name": "ipython",
    "version": 3
   },
   "file_extension": ".py",
   "mimetype": "text/x-python",
   "name": "python",
   "nbconvert_exporter": "python",
   "pygments_lexer": "ipython3",
   "version": "3.7.3"
  }
 },
 "nbformat": 4,
 "nbformat_minor": 2
}
