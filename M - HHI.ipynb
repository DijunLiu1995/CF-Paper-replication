{
 "cells": [
  {
   "cell_type": "code",
   "execution_count": 1,
   "metadata": {},
   "outputs": [],
   "source": [
    "from functools import partial\n",
    "\n",
    "import pandas as pd\n",
    "import numpy as np\n",
    "import wrds\n",
    "\n",
    "import multiprocessing as mp\n",
    "import multiprocessing.dummy as mpd\n",
    "\n",
    "from tqdm import tqdm_notebook as tqdm\n",
    "\n",
    "from utilities import *"
   ]
  },
  {
   "cell_type": "code",
   "execution_count": 2,
   "metadata": {},
   "outputs": [
    {
     "name": "stdout",
     "output_type": "stream",
     "text": [
      "Loading library list...\n",
      "Done\n"
     ]
    }
   ],
   "source": [
    "db = wrds.Connection(wrds_username='tadej')"
   ]
  },
  {
   "cell_type": "code",
   "execution_count": 3,
   "metadata": {},
   "outputs": [],
   "source": [
    "# Import data\n",
    "select_str = '''\n",
    "SELECT date_part('year', date) AS year, m.permco, \n",
    "       shrout * abs(prc) AS mktcap, substr(ncusip, 1, 8) AS cusip8\n",
    "FROM crspa.msf AS m INNER JOIN crspa.stocknames AS n ON n.permno = m.permno\n",
    "WHERE date_part('month', date) = 12 AND\n",
    "      substr(ncusip, 1, 8) IS NOT NULL\n",
    "'''\n",
    "\n",
    "data_crsp = db.raw_sql(select_str)\n",
    "data_bushee = pd.read_stata('Data/Intermediate/bushee_detailed.dta', columns = ['mgrno_mapped', \n",
    "                            'cusip', 'year', 'shares', 'sole', 'shared', 'no'])\n",
    "data_bushee = data_bushee.rename(columns = {'cusip': 'cusip8', 'mgrno_mapped': 'mgrno'})"
   ]
  },
  {
   "cell_type": "code",
   "execution_count": 4,
   "metadata": {},
   "outputs": [],
   "source": [
    "# Collapse by sum\n",
    "data_bushee = data_bushee.groupby(['year', 'cusip8', 'mgrno'])['shares', 'sole', 'shared', 'no']\\\n",
    "                         .sum().reset_index()\n",
    "\n",
    "data_bushee['temp'] = data_bushee.groupby(['year', 'cusip8'])['shares'].transform('sum')\n",
    "\n",
    "# Drop those with shares less than 0.005\n",
    "data_bushee = data_bushee.loc[data_bushee['shares']/data_bushee['temp'] > 0.005, :]\n",
    "\n",
    "# Recompute share for those with more than 0.005\n",
    "data_bushee['temp'] = data_bushee.groupby(['year', 'cusip8'])['shares'].transform('sum')\n",
    "data_bushee['ownshare'] = data_bushee['shares']/data_bushee['temp']\n",
    "\n",
    "data_bushee['temp'] = data_bushee['sole'] + data_bushee['shared']\n",
    "data_bushee['temp'] = data_bushee.groupby(['year', 'cusip8'])['temp'].transform('sum')\n",
    "data_bushee['votshare'] = (data_bushee['sole'] + data_bushee['shared'])/data_bushee['temp']\n",
    "\n",
    "data_bushee.drop(columns = ['temp'], inplace = True)\n",
    "\n",
    "# Merge (inner)\n",
    "data = data_bushee.merge(data_crsp)"
   ]
  },
  {
   "cell_type": "code",
   "execution_count": 5,
   "metadata": {},
   "outputs": [],
   "source": [
    "# Sort by permco, year and mktcap and keep only largest mktcap within permco, year\n",
    "data = data.sort_values(['permco', 'mgrno', 'year', 'mktcap']).reset_index(drop = True)\n",
    "data.drop_duplicates(subset = ['permco', 'year', 'mgrno'], keep = 'last', inplace = True)\n",
    "\n",
    "# Read in linking table, rename\n",
    "link_table = pd.read_stata('Data/Raw inputs/linkingTable.dta')\n",
    "link_table = link_table.rename(columns = {'lpermco': 'permco'})\n",
    "\n",
    "# Replace NA in linkenddt with today's date (as good as any)\n",
    "link_table.loc[link_table['linkenddt'].isna(), 'linkenddt'] = pd.to_datetime('today')"
   ]
  },
  {
   "cell_type": "code",
   "execution_count": 6,
   "metadata": {},
   "outputs": [],
   "source": [
    "# Merge link table, do some filtering\n",
    "data = data.merge(link_table, how = 'inner')\n",
    "data.query('linkdt.dt.year <= year & linkenddt.dt.year >= year', inplace = True)\n",
    "\n",
    "# Sort by gvkey, year, mkt and keep only the largest mkt\n",
    "data = data.sort_values(['gvkey', 'year', 'mgrno', 'mktcap']).reset_index(drop = True)\n",
    "data.drop_duplicates(subset = ['gvkey', 'year', 'mgrno'], keep = 'last', inplace = True)"
   ]
  },
  {
   "cell_type": "code",
   "execution_count": 7,
   "metadata": {},
   "outputs": [],
   "source": [
    "# Merge with firm (inner)\n",
    "data_firm = pd.read_stata('Data/Intermediate/data_firm.dta', columns = ['gvkey', 'year', 'indcode', 'ss1', 'sale'])\n",
    "data_firm.dropna(subset = ['gvkey', 'indcode', 'sale'], inplace = True)\n",
    "\n",
    "data = data_firm.merge(data).drop(columns = ['sale'])"
   ]
  },
  {
   "cell_type": "code",
   "execution_count": 8,
   "metadata": {},
   "outputs": [],
   "source": [
    "# Function to compute modified HHI\n",
    "def compute_mHHI(data_name, share_var = 'ownshare'):\n",
    "    '''\n",
    "    This function takes as input data for a year/indcode pair, which contains gvkey, ss1, mgrno and ownkey\n",
    "    columns. It returns a signel value, the modified HHI index.\n",
    "    '''\n",
    "    \n",
    "    name = data_name[1]\n",
    "    data = data_name[0]\n",
    "    \n",
    "    # Own share table\n",
    "    os_t = data.pivot_table(index = 'gvkey', columns = 'mgrno', values = share_var, fill_value = 0)\n",
    "\n",
    "    # Own share cross-multiplication table\n",
    "    # Divide os_mt by the row by sum of squares of os_t (for gvkey) \n",
    "    # Equivalent to dividing by b_j @ b_j\n",
    "    os_mt = (os_t @ os_t.T).div(os_t.pow(2).sum(axis = 1), axis = 0)\n",
    "\n",
    "    # SS1 cross-multiplication table\n",
    "    ss = data[['gvkey', 'ss1']].drop_duplicates().set_index('gvkey')\n",
    "    ss_mt = ss @ ss.T\n",
    "    \n",
    "    return pd.Series({name: (os_mt * ss_mt).sum().sum()})"
   ]
  },
  {
   "cell_type": "code",
   "execution_count": 9,
   "metadata": {},
   "outputs": [
    {
     "data": {
      "application/vnd.jupyter.widget-view+json": {
       "model_id": "26f9f38928e245e08cb8a1db4e2ddb0b",
       "version_major": 2,
       "version_minor": 0
      },
      "text/plain": [
       "HBox(children=(IntProgress(value=0, max=1744), HTML(value='')))"
      ]
     },
     "metadata": {},
     "output_type": "display_data"
    },
    {
     "name": "stdout",
     "output_type": "stream",
     "text": [
      "\n"
     ]
    }
   ],
   "source": [
    "# Create groups to pass to multiprocessing\n",
    "gby = data[['gvkey', 'ss1', 'mgrno', 'ownshare', 'votshare', 'indcode', 'year']].groupby(['indcode', 'year'])\n",
    "groups = [(group, name) for name, group in gby]\n",
    "\n",
    "# Compute the modified hhi\n",
    "with mp.Pool(mp.cpu_count()) as pool:\n",
    "    mHHI = pd.concat(tqdm(pool.imap_unordered(compute_mHHI, groups), total = len(groups)))"
   ]
  },
  {
   "cell_type": "code",
   "execution_count": 10,
   "metadata": {},
   "outputs": [
    {
     "data": {
      "application/vnd.jupyter.widget-view+json": {
       "model_id": "7148fea5d96b4636ba3d715741e03b5a",
       "version_major": 2,
       "version_minor": 0
      },
      "text/plain": [
       "HBox(children=(IntProgress(value=0, max=1744), HTML(value='')))"
      ]
     },
     "metadata": {},
     "output_type": "display_data"
    },
    {
     "name": "stdout",
     "output_type": "stream",
     "text": [
      "\n"
     ]
    }
   ],
   "source": [
    "# Compute the modified hhi - voting version\n",
    "compute_v_mHHI = partial(compute_mHHI, share_var = 'votshare')\n",
    "with mp.Pool(mp.cpu_count()) as pool:\n",
    "    v_mHHI = pd.concat(tqdm(pool.imap_unordered(compute_v_mHHI, groups), total = len(groups)))"
   ]
  },
  {
   "cell_type": "code",
   "execution_count": 11,
   "metadata": {},
   "outputs": [],
   "source": [
    "# Rename index, merge, and save as stata\n",
    "mHHI.index = mHHI.index.set_names(['indcode', 'year'])\n",
    "v_mHHI.index = v_mHHI.index.set_names(['indcode', 'year'])\n",
    "\n",
    "mHHI = mHHI.to_frame('herf_mod')\n",
    "v_mHHI = v_mHHI.to_frame('herf_votmod')\n",
    "\n",
    "hhi_data = mHHI.merge(v_mHHI, left_index=True, right_index=True, how = 'outer').reset_index()\n",
    "\n",
    "hhi_data.query('year.between(1980, 2015)')\\\n",
    "        .to_stata('Data/Intermediate/mod_HHI_BEA.dta', write_index = False)"
   ]
  }
 ],
 "metadata": {
  "kernelspec": {
   "display_name": "Python 3",
   "language": "python",
   "name": "python3"
  },
  "language_info": {
   "codemirror_mode": {
    "name": "ipython",
    "version": 3
   },
   "file_extension": ".py",
   "mimetype": "text/x-python",
   "name": "python",
   "nbconvert_exporter": "python",
   "pygments_lexer": "ipython3",
   "version": "3.7.3"
  }
 },
 "nbformat": 4,
 "nbformat_minor": 2
}
